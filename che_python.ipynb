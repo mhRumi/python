{
  "nbformat": 4,
  "nbformat_minor": 0,
  "metadata": {
    "colab": {
      "provenance": []
    },
    "kernelspec": {
      "name": "python3",
      "display_name": "Python 3"
    },
    "language_info": {
      "name": "python"
    }
  },
  "cells": [
    {
      "cell_type": "markdown",
      "source": [
        "# Q1\n",
        "Write a Python function named **`attandencePercentage()`** that calculates a student's attendance percentage based on the total number of classes held and the number of classes attended. Then write another function named **`attandencePercentageToMark()`** to determine the marks for class participation using the following criteria:\n",
        "\n",
        "| Attendance (Percentage) | Marks |\n",
        "|-------------------------|-------|\n",
        "| 90 - 100                | 10    |\n",
        "| 80 - 89                 | 9     |\n",
        "| 70 - 79                 | 8     |\n",
        "| 60 - 69                 | 7     |\n",
        "| Less than 60            | 0     |\n",
        "\n",
        "Additionally, if the calculated attendance percentage is less than 50%, print:\n",
        "\"**The student is not allowed to appear for the examination.**\"\n",
        "\n",
        "**Example Input:**\n",
        "\n",
        "Enter the total number of classes held: 50\n",
        "\n",
        "Enter the number of classes attended: 47\n",
        "\n",
        "**Expected Output:**\n",
        "\n",
        "Attendance Percentage: 94.0%\n",
        "\n",
        "The student receives 9 marks for class participation."
      ],
      "metadata": {
        "id": "bLj6JGDjZ1Xs"
      }
    },
    {
      "cell_type": "code",
      "source": [],
      "metadata": {
        "id": "f-X0n-kj0E3S"
      },
      "execution_count": null,
      "outputs": []
    },
    {
      "cell_type": "markdown",
      "source": [
        "# Q2\n",
        "\n",
        "Write a Python program to check if a triangle is equilateral, isosceles or scalene.\n",
        "\n",
        "Note :\n",
        "\n",
        "An **equilateral** triangle is a triangle in which all three sides are equal.\n",
        "A **scalene** triangle is a triangle that has three unequal sides.\n",
        "An **isosceles** triangle is a triangle with (at least) two equal sides.\n",
        "\n",
        "Expected Output:\n",
        "\n",
        "Input lengths of the triangle sides:                                    \n",
        "x: 6                                                                    \n",
        "y: 8                                                                    \n",
        "z: 12                                                                   \n",
        "Scalene triangle  \n"
      ],
      "metadata": {
        "id": "NWP9Qgcy4OSE"
      }
    },
    {
      "cell_type": "code",
      "source": [
        "\n"
      ],
      "metadata": {
        "id": "ravbh1ti4jfJ"
      },
      "execution_count": null,
      "outputs": []
    },
    {
      "cell_type": "markdown",
      "source": [
        "# Q3\n",
        "\n",
        "Few months ago SUST admission-test 2024-25 was held. As you know basic Python programming, Admission committee asked your help about result processing.\n",
        "\n",
        "You have to help in processing A unit result. You are given the ground truth for SET 11 and students OMR data who answered the same SET.\n",
        "\n",
        "\n",
        "\n",
        "1.  Count total correct, wrong and untouch mcq.\n",
        "2. For each student count his score. 1 mark for each correct answer and for   each wrong answer 0.2 will be deducted from his score.\n",
        "\n",
        "[A, B, C, D means the option he marked on OMR, ? means multiple option is choosen will be count as wrong 0.2 deduction, * means didn't marked any option]\n"
      ],
      "metadata": {
        "id": "kKVu1jf66L6J"
      }
    },
    {
      "cell_type": "code",
      "source": [
        "ground_truth_set_11 = \"C,A,B,D,D,C,C,D,B,B,A,C,B,A,B,D,A,B,C,D,A,+,D,C,C,A,D,A,A,D,B,B,A,D,B,B,C,C,D,B,A,D,C,D,A,B,B,B,D,B,D,C,B,A,B,A,C,A,C,D,A,B,C,B,C,A,B,C,D,C,D,C,D,A,A,B,D,B,D,A,B,A,D,C,B,D,A,D,C,C,A,B,D,C,A,B,B,D,A,A\"\n",
        "\n",
        "# student OMR data\n",
        "#admission-roll;set_code;omr_answerd;hsc_passing_year;hsc_roll;hsc_board\n",
        "1100002;11;C,A,B,C,D,C,C,D,B,D,B,C,*,A,B,D,A,B,C,D,A,B,D,A,C,A,D,D,A,D,B,C,B,A,A,B,B,C,D,B,A,B,B,*,A,B,A,B,A,B,C,C,B,A,B,A,C,*,C,B,*,*,*,*,*,*,*,*,*,*,*,*,*,*,*,*,*,*,*,*,B,A,D,C,B,*,A,C,C,C,A,A,D,C,A,B,B,D,A,A;2024;103664;Sylhet>\n",
        "1100005;11;A,C,B,D,D,C,*,*,*,B,C,C,*,*,*,D,A,B,D,A,A,C,D,C,C,A,D,A,D,*,A,*,A,A,B,B,*,D,D,A,D,B,*,*,*,B,A,*,*,C,C,A,*,D,C,A,C,*,C,*,*,B,C,B,A,*,D,B,C,*,B,*,*,*,*,*,*,*,B,C,*,*,*,*,*,*,*,*,*,*,*,*,*,*,*,*,*,*,*,*;2023;111317;Sylhet>\n",
        "1100007;11;C,B,B,D,A,D,*,*,*,D,*,A,C,C,A,D,*,*,A,*,*,*,*,C,C,A,A,C,B,A,B,*,*,D,A,B,B,B,*,B,D,*,*,*,A,A,A,B,*,C,*,A,B,A,*,A,*,*,*,*,*,*,*,*,*,*,*,*,*,*,*,*,*,*,*,*,*,*,*,*,B,A,D,C,A,C,*,D,C,D,A,B,B,C,A,B,C,*,D,D;2024;100614;Sylhet>\n",
        "1100014;11;C,A,A,D,*,C,A,*,*,*,*,*,C,A,B,*,*,*,A,*,A,*,C,*,B,A,C,*,C,*,A,B,*,*,*,A,*,B,*,*,C,A,D,*,*,*,*,B,*,*,*,*,*,*,*,*,*,*,B,C,C,*,C,B,*,*,*,*,*,D,*,*,C,*,*,*,*,*,C,*,B,B,D,C,*,D,*,A,C,*,A,C,*,D,*,B,B,*,B,B;2024;108822;Rajshahi>\n"
      ],
      "metadata": {
        "id": "dy0Pj3S49BYW"
      },
      "execution_count": null,
      "outputs": []
    }
  ]
}